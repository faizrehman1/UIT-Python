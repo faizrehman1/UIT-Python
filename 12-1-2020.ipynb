{
 "cells": [
  {
   "cell_type": "markdown",
   "metadata": {},
   "source": [
    "# Dictionaries"
   ]
  },
  {
   "cell_type": "markdown",
   "metadata": {},
   "source": [
    "{\"Key\",\"Value\"}"
   ]
  },
  {
   "cell_type": "code",
   "execution_count": null,
   "metadata": {},
   "outputs": [],
   "source": [
    "dictionary = {\"name\":\"Faiz\",\"FatherName\":\"Aziz\",\"phone_number\":\"090078601\"}\n",
    "dictionary"
   ]
  },
  {
   "cell_type": "code",
   "execution_count": null,
   "metadata": {},
   "outputs": [],
   "source": [
    "dictionary['name']"
   ]
  },
  {
   "cell_type": "markdown",
   "metadata": {},
   "source": [
    "# Class Task"
   ]
  },
  {
   "cell_type": "code",
   "execution_count": null,
   "metadata": {},
   "outputs": [],
   "source": [
    "# Save Information from input\n",
    "dictionary = {\"name\":input(\"Enter your name: \"),\"FatherName\":input(\"Enter your Father name: \"),\"phone_number\":input(\"Enter your Phone number: \")}\n",
    "print(\"User Name is : \"+dictionary['name']+\"\\nUser Father name is : \"+dictionary['FatherName']+\"\\nUser Phone Number is : \"+dictionary['phone_number'])"
   ]
  },
  {
   "cell_type": "code",
   "execution_count": null,
   "metadata": {},
   "outputs": [],
   "source": [
    "import random"
   ]
  },
  {
   "cell_type": "code",
   "execution_count": null,
   "metadata": {},
   "outputs": [],
   "source": [
    "random.randrange(10)"
   ]
  },
  {
   "cell_type": "code",
   "execution_count": null,
   "metadata": {},
   "outputs": [],
   "source": [
    "dictionary [\"roll_number\"] = 1024"
   ]
  },
  {
   "cell_type": "code",
   "execution_count": null,
   "metadata": {},
   "outputs": [],
   "source": [
    "dictionary"
   ]
  },
  {
   "cell_type": "code",
   "execution_count": null,
   "metadata": {},
   "outputs": [],
   "source": [
    "dictionary ['roll_number']"
   ]
  },
  {
   "cell_type": "code",
   "execution_count": null,
   "metadata": {},
   "outputs": [],
   "source": [
    "dictionary['email_address'] = 'google@gmail.com'"
   ]
  },
  {
   "cell_type": "code",
   "execution_count": null,
   "metadata": {},
   "outputs": [],
   "source": [
    "dictionary"
   ]
  },
  {
   "cell_type": "code",
   "execution_count": null,
   "metadata": {},
   "outputs": [],
   "source": [
    "#Remove from Dictionary\n",
    "del dictionary['email_address']"
   ]
  },
  {
   "cell_type": "code",
   "execution_count": null,
   "metadata": {},
   "outputs": [],
   "source": [
    "dictionary"
   ]
  },
  {
   "cell_type": "code",
   "execution_count": null,
   "metadata": {},
   "outputs": [],
   "source": [
    "# Class task\n",
    "inputDictionary = {}"
   ]
  },
  {
   "cell_type": "code",
   "execution_count": null,
   "metadata": {},
   "outputs": [],
   "source": [
    "inputDictionary ['name']= input(\"Enter name of user \")\n",
    "inputDictionary ['father_name']= input(\"Enter Father name of user \")\n",
    "inputDictionary ['roll_number']= input(\"Enter Roll Number of user \")\n",
    "inputDictionary ['email_Address']= input(\"Enter Email Address of user \")\n",
    "inputDictionary ['phone_number']= input(\"Enter number of user \")\n",
    "\n",
    "inputDictionary"
   ]
  },
  {
   "cell_type": "code",
   "execution_count": null,
   "metadata": {},
   "outputs": [],
   "source": [
    "for items in inputDictionary.items():\n",
    "    print(items)"
   ]
  },
  {
   "cell_type": "code",
   "execution_count": null,
   "metadata": {},
   "outputs": [],
   "source": [
    "for key,value in inputDictionary.items():\n",
    "    print(key,value)"
   ]
  },
  {
   "cell_type": "code",
   "execution_count": null,
   "metadata": {},
   "outputs": [],
   "source": [
    "for keys in inputDictionary.keys():\n",
    "    print(keys)"
   ]
  },
  {
   "cell_type": "code",
   "execution_count": null,
   "metadata": {},
   "outputs": [],
   "source": [
    "for values in inputDictionary.values():\n",
    "    print(values)"
   ]
  },
  {
   "cell_type": "code",
   "execution_count": 7,
   "metadata": {},
   "outputs": [
    {
     "name": "stdout",
     "output_type": "stream",
     "text": [
      "If you want to add a user Y/N?y\n",
      "Enter name: kajd\n",
      "Enter father name: lajdl\n",
      "Enter roll number: 1232\n",
      "*****************************\n",
      "If you want to add a user Y/N?y\n",
      "Enter name: lajdla\n",
      "Enter father name: 324\n",
      "Enter roll number: qwe\n",
      "*****************************\n",
      "\n",
      " Added Users: \n",
      "\n",
      "name       father_name     roll_number \n",
      "kajd       lajdl           1232      \n",
      "lajdla     324             qwe       \n"
     ]
    }
   ],
   "source": [
    "#input from Loop (name,fathername,rollnumber)\n",
    "\n",
    "dictionaryList = []\n",
    "\n",
    "\n",
    "flag = True\n",
    "while flag:\n",
    "    if len(dictionaryList) < 2:\n",
    "        condition =input(\"If you want to add a user Y/N?\")\n",
    "        if condition.replace(\" \",\"\") == 'n' or condition.replace(\" \",\"\") == 'N':\n",
    "            if len(dictionaryList) > 2:\n",
    "                flag = False\n",
    "            else :\n",
    "                print(\"you must enter 2 users data.\")\n",
    "        else:\n",
    "            userDictionary = {\n",
    "                \"name\":input(\"Enter name: \"),\n",
    "                \"father_name\":input(\"Enter father name: \"),\n",
    "                \"roll_number\":input(\"Enter roll number: \")\n",
    "                }\n",
    "            print(\"*****************************\")\n",
    "            dictionaryList.append(userDictionary)\n",
    "        flag = False\n",
    "\n",
    "print(\"\\n Added Users: \\n\")\n",
    "print(\"{:10} {:15} {:10} \".format('name','father_name','roll_number'))\n",
    "for item in dictionaryList:\n",
    "  #  print(item)\n",
    "    print(\"{:10} {:15} {:10}\".format(item['name'],item['father_name'],item['roll_number']))"
   ]
  },
  {
   "cell_type": "code",
   "execution_count": null,
   "metadata": {},
   "outputs": [],
   "source": []
  },
  {
   "cell_type": "code",
   "execution_count": null,
   "metadata": {},
   "outputs": [],
   "source": []
  }
 ],
 "metadata": {
  "kernelspec": {
   "display_name": "Python 3",
   "language": "python",
   "name": "python3"
  },
  "language_info": {
   "codemirror_mode": {
    "name": "ipython",
    "version": 3
   },
   "file_extension": ".py",
   "mimetype": "text/x-python",
   "name": "python",
   "nbconvert_exporter": "python",
   "pygments_lexer": "ipython3",
   "version": "3.7.4"
  }
 },
 "nbformat": 4,
 "nbformat_minor": 2
}
