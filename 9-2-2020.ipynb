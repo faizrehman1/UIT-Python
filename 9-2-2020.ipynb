{
 "cells": [
  {
   "cell_type": "markdown",
   "metadata": {},
   "source": [
    "# Function Continue"
   ]
  },
  {
   "cell_type": "code",
   "execution_count": 7,
   "metadata": {},
   "outputs": [],
   "source": [
    "# Handle arguments\n",
    "def add(a=0,b=0,c=0):\n",
    "    print(a)\n",
    "    pass"
   ]
  },
  {
   "cell_type": "code",
   "execution_count": 8,
   "metadata": {},
   "outputs": [
    {
     "name": "stdout",
     "output_type": "stream",
     "text": [
      "1\n"
     ]
    }
   ],
   "source": [
    "add(1,2)"
   ]
  },
  {
   "cell_type": "code",
   "execution_count": 10,
   "metadata": {},
   "outputs": [],
   "source": [
    "def add(a=0,b=0,c=0,*other):\n",
    "    print(other)\n",
    "    pass"
   ]
  },
  {
   "cell_type": "code",
   "execution_count": 11,
   "metadata": {},
   "outputs": [
    {
     "name": "stdout",
     "output_type": "stream",
     "text": [
      "(5, 6, 7, 8)\n"
     ]
    }
   ],
   "source": [
    "add(2,3,4,5,6,7,8)"
   ]
  },
  {
   "cell_type": "code",
   "execution_count": 26,
   "metadata": {},
   "outputs": [],
   "source": [
    "#Sales man\n",
    "#sale any item\n",
    "# if sale is 100 greater than commission\n",
    "\n",
    "def gross_Salary_Calc(basicSalary,commission):\n",
    "    gross = basicSalary + commission\n",
    "    return gross"
   ]
  },
  {
   "cell_type": "code",
   "execution_count": 31,
   "metadata": {},
   "outputs": [],
   "source": [
    "def commissionCalculator(basic_salary,unitsSold):\n",
    "    percent_commission = 0\n",
    "    if unitsSold>=100:\n",
    "        percent_commission = 50\n",
    "    elif unitsSold>=50:\n",
    "        percent_commission = 25\n",
    "    elif unitsSold>0 and unitsSold<50:\n",
    "        percent_commission = 10\n",
    "    percent_commission = (basic_salary * percent_commission / 100)    \n",
    "    print(\"Commission on sold units : \"+str(percent_commission))\n",
    "    print(\"Gross Salary after add commission : \"+str(gross_Salary_Calc(basic_salary,percent_commission)))\n",
    "        "
   ]
  },
  {
   "cell_type": "code",
   "execution_count": 32,
   "metadata": {},
   "outputs": [
    {
     "name": "stdout",
     "output_type": "stream",
     "text": [
      "Enter salary amount : 100\n",
      "Enter number of sold units : 0\n",
      "Commission on sold units : 0.0\n",
      "Gross Salary after add commission : 100.0\n"
     ]
    }
   ],
   "source": [
    "basic_salary = int(input(\"Enter salary amount : \"))\n",
    "units_sold = int(input(\"Enter number of sold units : \"))\n",
    "commissionCalculator(basic_salary,units_sold)"
   ]
  },
  {
   "cell_type": "code",
   "execution_count": 33,
   "metadata": {},
   "outputs": [
    {
     "data": {
      "text/plain": [
       "0.0"
      ]
     },
     "execution_count": 33,
     "metadata": {},
     "output_type": "execute_result"
    }
   ],
   "source": [
    "#positional arguments\n",
    "#Key word arguments : sb se pehle keyword arguments ayega agar positional k sath use horha hai\n",
    "#default parameter last main hi hoga\n",
    "def add(f,s):\n",
    "    return (f/s)\n",
    "add (s=10,f=0)"
   ]
  },
  {
   "cell_type": "code",
   "execution_count": 34,
   "metadata": {},
   "outputs": [
    {
     "name": "stdout",
     "output_type": "stream",
     "text": [
      "50\n",
      "100\n"
     ]
    }
   ],
   "source": [
    "age =100\n",
    "def age1():\n",
    "    age = 50\n",
    "    print(age)\n",
    "age1()\n",
    "print(age)"
   ]
  },
  {
   "cell_type": "code",
   "execution_count": 40,
   "metadata": {},
   "outputs": [
    {
     "name": "stdout",
     "output_type": "stream",
     "text": [
      "Enter user name you want to add? sa\n",
      "Enter user name you want to add? sa\n",
      "Enter user name you want to add? admin\n",
      "Enter user name you want to add? dasd\n",
      "Enter user name you want to add? asd\n",
      "Enter user name you want to add? q\n",
      "Enter Login username ? admin\n",
      "Hello Admin, would you like to see a status report? \n"
     ]
    }
   ],
   "source": [
    "# make a list of five user_name\n",
    "\n",
    "user_name = []\n",
    "flag = True\n",
    "\n",
    "\n",
    "while flag:\n",
    "    username = input(\"Enter user name you want to add? \")\n",
    "    if username == 'q' or username == 'Q':\n",
    "        flag= False\n",
    "    else:\n",
    "        user_name.append(username)\n",
    "\n",
    "        \n",
    "login_username = input(\"Enter Login username ? \")\n",
    "if 2 > 0:\n",
    "    if login_username in user_name:\n",
    "        if login_username == \"admin\":\n",
    "            print(\"Hello Admin, would you like to see a status report? \")\n",
    "        else:\n",
    "            print(\"Hello\" +login_username+\", thank you for logging in again.\")\n",
    "else:\n",
    "    print(\"We need to find some users!\")"
   ]
  },
  {
   "cell_type": "code",
   "execution_count": 49,
   "metadata": {},
   "outputs": [
    {
     "name": "stdout",
     "output_type": "stream",
     "text": [
      "kashan will need to enter a new username\n",
      "fawad will need to enter a new username\n",
      "kamran is available\n",
      "imran is available\n",
      "moosa is available\n"
     ]
    }
   ],
   "source": [
    "#Checking Usernames\n",
    "#5-10. Checking Usernames: Do the following to create a program that simulates\n",
    "#how websites ensure that everyone has a unique username.\n",
    "#• Make a list of five or more usernames called current_users.\n",
    "#• Make another list of five usernames called new_users. Make sure one or\n",
    "#two of the new usernames are also in the current_users list.\n",
    "#• Loop through the new_users list to see if each new username has already\n",
    "#been used. If it has, print a message that the person will need to enter a\n",
    "#new username. If a username has not been used, print a message saying\n",
    "#that the username is available.\n",
    "#• Make sure your comparison is case insensitive. If 'John' has been used,\n",
    "#'JOHN' should not be accepted.\n",
    "\n",
    "current_users = [\"john\",\"kashan\",\"fawad\",\"adnan\",\"sami\"]\n",
    "new_users = [\"kashan\",\"fawad\",\"kamran\",\"imran\",\"moosa\"]\n",
    "\n",
    "for name in new_users:\n",
    "    if name in current_users:\n",
    "        print(name+\" will need to enter a new username\")\n",
    "    else:\n",
    "         print(name+\" is available\")\n",
    "            \n",
    "\n",
    "\n",
    "\n",
    "\n"
   ]
  },
  {
   "cell_type": "code",
   "execution_count": 51,
   "metadata": {},
   "outputs": [
    {
     "name": "stdout",
     "output_type": "stream",
     "text": [
      "1st\n",
      "2nd\n",
      "3rd\n",
      "4th\n",
      "5th\n",
      "6th\n",
      "7th\n",
      "8th\n",
      "9th\n"
     ]
    }
   ],
   "source": [
    "#Ordinal Numbers\n",
    "ordinal_list = [1,2,3,4,5,6,7,8,9]\n",
    "for number in ordinal_list:\n",
    "    if number == 1:\n",
    "        print(str(number)+\"st\")\n",
    "    elif number == 2:\n",
    "        print(str(number)+\"nd\")\n",
    "    elif number == 3:\n",
    "        print(str(number)+\"rd\")\n",
    "    else:\n",
    "        print(str(number)+\"th\")"
   ]
  },
  {
   "cell_type": "markdown",
   "metadata": {},
   "source": [
    "# Classes"
   ]
  },
  {
   "cell_type": "code",
   "execution_count": 53,
   "metadata": {},
   "outputs": [],
   "source": [
    "# Attributes\n",
    "# Behaviour\n",
    "\n",
    "class Patient():\n",
    "    def __init__(self,name,pid,age,gender,diseases,add,contact):\n",
    "        self.name = name\n",
    "        self.age = age\n",
    "        self.gender= gender\n",
    "        self.diseases = diseases\n",
    "        self.add = add\n",
    "        self.contact = contact\n",
    "        self.pid = pid\n",
    "    def takeMedicine(self):\n",
    "        print(f\"{self.name} is taking medicine\")\n",
    "    def billPay(self):\n",
    "        print(f\"{self.name} is paying bill\")"
   ]
  },
  {
   "cell_type": "code",
   "execution_count": 60,
   "metadata": {},
   "outputs": [],
   "source": [
    "p1 = Patient(\"Faiz Rehman\",\"01\",20,\"Male\",\"Bukhaar\",\"Gulshan\",\"090078601\")"
   ]
  },
  {
   "cell_type": "code",
   "execution_count": 62,
   "metadata": {},
   "outputs": [
    {
     "name": "stdout",
     "output_type": "stream",
     "text": [
      "Faiz Rehman is paying bill\n"
     ]
    },
    {
     "data": {
      "text/plain": [
       "'Gulshan'"
      ]
     },
     "execution_count": 62,
     "metadata": {},
     "output_type": "execute_result"
    }
   ],
   "source": [
    "p1.billPay()\n",
    "p1.add"
   ]
  },
  {
   "cell_type": "code",
   "execution_count": 63,
   "metadata": {},
   "outputs": [],
   "source": [
    "p2 = Patient(\"Kashan Zafar\",\"02\",30,\"Male\",\"Flu\",\"Surjani Town\",\"03001234567\")"
   ]
  },
  {
   "cell_type": "code",
   "execution_count": 65,
   "metadata": {},
   "outputs": [
    {
     "name": "stdout",
     "output_type": "stream",
     "text": [
      "Kashan Zafar is taking medicine\n"
     ]
    }
   ],
   "source": [
    "p2.takeMedicine()"
   ]
  },
  {
   "cell_type": "code",
   "execution_count": 66,
   "metadata": {},
   "outputs": [],
   "source": [
    "class Student():\n",
    "    def __init__(self,std_name,std_id,std_age,std_contact):\n",
    "        self.std_name = std_name\n",
    "        self.std_id = std_id\n",
    "        self.std_age= std_age\n",
    "        self.std_contact = std_contact\n",
    "    def student_attendance(self):\n",
    "        print(f\"{self.std_name} is paying bill\")"
   ]
  },
  {
   "cell_type": "code",
   "execution_count": 67,
   "metadata": {},
   "outputs": [],
   "source": [
    "stud = Student(\"name\",\"01\",20,\"090078601\")"
   ]
  },
  {
   "cell_type": "code",
   "execution_count": 68,
   "metadata": {},
   "outputs": [
    {
     "data": {
      "text/plain": [
       "'name'"
      ]
     },
     "execution_count": 68,
     "metadata": {},
     "output_type": "execute_result"
    }
   ],
   "source": [
    "stud.std_name"
   ]
  },
  {
   "cell_type": "code",
   "execution_count": null,
   "metadata": {},
   "outputs": [],
   "source": []
  }
 ],
 "metadata": {
  "kernelspec": {
   "display_name": "Python 3",
   "language": "python",
   "name": "python3"
  },
  "language_info": {
   "codemirror_mode": {
    "name": "ipython",
    "version": 3
   },
   "file_extension": ".py",
   "mimetype": "text/x-python",
   "name": "python",
   "nbconvert_exporter": "python",
   "pygments_lexer": "ipython3",
   "version": "3.7.4"
  }
 },
 "nbformat": 4,
 "nbformat_minor": 2
}
