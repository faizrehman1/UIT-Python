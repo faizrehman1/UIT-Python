{
 "cells": [
  {
   "cell_type": "code",
   "execution_count": 6,
   "metadata": {},
   "outputs": [],
   "source": [
    "num = \"A\""
   ]
  },
  {
   "cell_type": "markdown",
   "metadata": {},
   "source": [
    "# ordinal"
   ]
  },
  {
   "cell_type": "code",
   "execution_count": 22,
   "metadata": {},
   "outputs": [
    {
     "data": {
      "text/plain": [
       "65"
      ]
     },
     "execution_count": 22,
     "metadata": {},
     "output_type": "execute_result"
    }
   ],
   "source": [
    "ord(num)"
   ]
  },
  {
   "cell_type": "markdown",
   "metadata": {},
   "source": [
    "# Input"
   ]
  },
  {
   "cell_type": "code",
   "execution_count": 23,
   "metadata": {},
   "outputs": [
    {
     "name": "stdout",
     "output_type": "stream",
     "text": [
      "Enter NameFaiz\n"
     ]
    }
   ],
   "source": [
    "name = input(\"Enter Name\")"
   ]
  },
  {
   "cell_type": "code",
   "execution_count": 25,
   "metadata": {},
   "outputs": [
    {
     "name": "stdout",
     "output_type": "stream",
     "text": [
      "Enter NameFaiz\n",
      "Enter Age20\n"
     ]
    }
   ],
   "source": [
    "name = input(\"Enter Name\")\n",
    "age = input(\"Enter Age\")"
   ]
  },
  {
   "cell_type": "code",
   "execution_count": 26,
   "metadata": {},
   "outputs": [
    {
     "name": "stdout",
     "output_type": "stream",
     "text": [
      "My Name is Faiz and My Age is 20\n"
     ]
    }
   ],
   "source": [
    "print(\"My Name is {} and My Age is {}\".format(name,age))"
   ]
  },
  {
   "cell_type": "code",
   "execution_count": 29,
   "metadata": {},
   "outputs": [
    {
     "name": "stdout",
     "output_type": "stream",
     "text": [
      "My Name is Faiz and My Age is 20\n"
     ]
    }
   ],
   "source": [
    "print(f\"My Name is {name} and My Age is {age}\")"
   ]
  },
  {
   "cell_type": "markdown",
   "metadata": {},
   "source": [
    "# Conditional Statement"
   ]
  },
  {
   "cell_type": "code",
   "execution_count": 38,
   "metadata": {},
   "outputs": [
    {
     "name": "stdout",
     "output_type": "stream",
     "text": [
      "Age Bataen10\n",
      "TeenAger\n"
     ]
    }
   ],
   "source": [
    "age = int(input(\"Age Bataen\"))\n",
    "if age > 19:\n",
    "    print(\"Adult\")\n",
    "else:\n",
    "    print(\"TeenAger\")"
   ]
  },
  {
   "cell_type": "code",
   "execution_count": 39,
   "metadata": {},
   "outputs": [
    {
     "name": "stdout",
     "output_type": "stream",
     "text": [
      "Age Bataen28\n",
      "Adult\n"
     ]
    }
   ],
   "source": [
    "age = int(input(\"Age Bataen\"))\n",
    "if age > 19:\n",
    "    print(\"Adult\")\n",
    "elif age > 12:\n",
    "    print(\"TeenAger\")  \n",
    "else:\n",
    "    print(\"Cild\")"
   ]
  },
  {
   "cell_type": "code",
   "execution_count": 41,
   "metadata": {},
   "outputs": [],
   "source": [
    "if age>=100:\n",
    "    print(\"Senior Citizen\")\n",
    "    print(\"KOi Nahi\")"
   ]
  },
  {
   "cell_type": "code",
   "execution_count": 44,
   "metadata": {},
   "outputs": [
    {
     "name": "stdout",
     "output_type": "stream",
     "text": [
      "Do you have a CNIC? no\n",
      "Bring your CNIC\n"
     ]
    }
   ],
   "source": [
    "cnic = input(\"Do you have a CNIC? \")\n",
    "if cnic==\"yes\":\n",
    "    print(\"Go Inside\")\n",
    "    nameInList = input(\"is your name in the voter list? \")\n",
    "    if nameInList ==\"yes\":\n",
    "        print(\"You Can caste your vote\")\n",
    "    else:\n",
    "        print(\"Your name is not in the list!.\")\n",
    "        print(\"You cannot caste your vote\")\n",
    "else:\n",
    "    print(\"Bring your CNIC\")"
   ]
  },
  {
   "cell_type": "code",
   "execution_count": null,
   "metadata": {},
   "outputs": [],
   "source": []
  }
 ],
 "metadata": {
  "kernelspec": {
   "display_name": "Python 3",
   "language": "python",
   "name": "python3"
  },
  "language_info": {
   "codemirror_mode": {
    "name": "ipython",
    "version": 3
   },
   "file_extension": ".py",
   "mimetype": "text/x-python",
   "name": "python",
   "nbconvert_exporter": "python",
   "pygments_lexer": "ipython3",
   "version": "3.7.4"
  }
 },
 "nbformat": 4,
 "nbformat_minor": 2
}
