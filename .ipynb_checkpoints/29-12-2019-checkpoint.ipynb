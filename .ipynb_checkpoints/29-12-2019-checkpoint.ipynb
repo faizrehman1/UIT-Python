{
 "cells": [
  {
   "cell_type": "markdown",
   "metadata": {},
   "source": [
    "# Class Task"
   ]
  },
  {
   "cell_type": "code",
   "execution_count": 4,
   "metadata": {},
   "outputs": [
    {
     "name": "stdout",
     "output_type": "stream",
     "text": [
      "['2002', '2009', '2016', '2023', '2037', '2044', '2051', '2058', '2072', '2079', '2086', '2093', '2107', '2114', '2121', '2128', '2142', '2149', '2156', '2163', '2177', '2184', '2191', '2198', '2212', '2219', '2226', '2233', '2247', '2254', '2261', '2268', '2282', '2289', '2296', '2303', '2317', '2324', '2331', '2338', '2352', '2359', '2366', '2373', '2387', '2394', '2401', '2408', '2422', '2429', '2436', '2443', '2457', '2464', '2471', '2478', '2492', '2499', '2506', '2513', '2527', '2534', '2541', '2548', '2562', '2569', '2576', '2583', '2597', '2604', '2611', '2618', '2632', '2639', '2646', '2653', '2667', '2674', '2681', '2688', '2702', '2709', '2716', '2723', '2737', '2744', '2751', '2758', '2772', '2779', '2786', '2793', '2807', '2814', '2821', '2828', '2842', '2849', '2856', '2863', '2877', '2884', '2891', '2898', '2912', '2919', '2926', '2933', '2947', '2954', '2961', '2968', '2982', '2989', '2996', '3003', '3017', '3024', '3031', '3038', '3052', '3059', '3066', '3073', '3087', '3094', '3101', '3108', '3122', '3129', '3136', '3143', '3157', '3164', '3171', '3178', '3192', '3199']\n"
     ]
    }
   ],
   "source": [
    "myList = []\n",
    "for number in range(2000,3200):\n",
    "   # print(number)\n",
    "    if(number%7==0):\n",
    "        if(number%5!=0):\n",
    "            #  if(number%7==0) And if(number%5!=0)\n",
    "            myList.append(str(number))\n",
    "print(myList)"
   ]
  },
  {
   "cell_type": "code",
   "execution_count": 14,
   "metadata": {},
   "outputs": [
    {
     "name": "stdout",
     "output_type": "stream",
     "text": [
      "1\n",
      "1\n"
     ]
    }
   ],
   "source": [
    "#make input from user and create program for factorial\n",
    "fact = int(input())\n",
    "for i in range(fact-1,1,-1):\n",
    "    fact = fact*i\n",
    "   # print(str(i))\n",
    "print(str(fact))"
   ]
  },
  {
   "cell_type": "markdown",
   "metadata": {},
   "source": [
    "#  Loops"
   ]
  },
  {
   "cell_type": "code",
   "execution_count": 15,
   "metadata": {},
   "outputs": [
    {
     "name": "stdout",
     "output_type": "stream",
     "text": [
      "20\n",
      "40\n",
      "60\n"
     ]
    }
   ],
   "source": [
    "#For Loop Example\n",
    "for a in range(10):\n",
    "    n = int(input())\n",
    "    m = int(input())\n",
    "    sum = n+m\n",
    "    if sum > 50:\n",
    "        break\n",
    "print(sum)        "
   ]
  },
  {
   "cell_type": "code",
   "execution_count": 16,
   "metadata": {},
   "outputs": [
    {
     "name": "stdout",
     "output_type": "stream",
     "text": [
      "Enter number you want a\n",
      "a\n",
      "Enter number you want s\n",
      "s\n",
      "Enter number you want q\n",
      "q\n"
     ]
    }
   ],
   "source": [
    "#While Loop\n",
    "flag = True\n",
    "\n",
    "while flag:\n",
    "    number = input(\"Enter number you want \")\n",
    "    print(number)\n",
    "    if number=='q':\n",
    "        flag = False\n",
    "        "
   ]
  },
  {
   "cell_type": "code",
   "execution_count": 40,
   "metadata": {},
   "outputs": [
    {
     "name": "stdout",
     "output_type": "stream",
     "text": [
      "Do you want to add Employee (Y/N)?y\n",
      "Enter Employee Name to add : Kashan\n",
      "Enter Employee Name to add : Faiz\n",
      "Enter Employee Name to add : Sammer\n",
      "Enter Employee Name to add : sami\n",
      "Enter Employee Name to add : Qasim\n",
      "Enter Employee Name to add : y\n",
      "Enter Employee Name to add : q\n",
      "The Employee in the list are:  ['Kashan', 'Faiz', 'Sammer', 'sami', 'Qasim', 'y']\n",
      "The Good Employee in the list are:  ['Sammer', 'sami']\n",
      "The Bad Employee in the list are:  ['Kashan', 'Faiz', 'Qasim', 'y']\n"
     ]
    }
   ],
   "source": [
    "# Make a list of employee from input and while loop\n",
    "# 1) Check the employee\n",
    "# 2) Differentiate Good Employe and Bad Employee\n",
    "# 3) if input name is not in list then show msg \n",
    "# 4) Quit Program ( Quit/Continue )\n",
    "\n",
    "employeList = []\n",
    "goodEmpList = []\n",
    "badEmpList = []\n",
    "\n",
    "\n",
    "\n",
    "option = input(\"Do you want to add Employee (Y/N)?\")\n",
    "if option.replace(\" \",\"\")=='y' or option.replace(\" \",\"\")=='Y':\n",
    "    flag = True\n",
    "    while flag:\n",
    "        employeName = input(\"Enter Employee Name to add : \")\n",
    "        if employeName.replace(\" \",\"\")=='Q' or employeName.replace(\" \",\"\")=='q':\n",
    "            flag = False\n",
    "        else:\n",
    "            employeList.append(employeName)            \n",
    "    for name in employeList:\n",
    "        if name.startswith('s') or name.startswith('S'):\n",
    "            goodEmpList.append(name)\n",
    "        else:\n",
    "            badEmpList.append(name)\n",
    "    \n",
    "    print(\"The Employee in the list are: \",employeList)   \n",
    "    print(\"The Good Employee in the list are: \",goodEmpList)   \n",
    "    print(\"The Bad Employee in the list are: \",badEmpList) \n",
    "    \n",
    "elif option.replace(\" \",\"\")=='n' or option.replace(\" \",\"\")=='N':\n",
    "    print(\"Good Bye!\")\n",
    "else:\n",
    "    print(\"You Enter the wrong input.\")\n",
    "    \n",
    "  \n",
    "\n",
    "\n"
   ]
  },
  {
   "cell_type": "code",
   "execution_count": 4,
   "metadata": {},
   "outputs": [
    {
     "name": "stdout",
     "output_type": "stream",
     "text": [
      "Do you want to add Employee (Y/N)?y\n",
      "Enter Employee Name to add : q\n",
      "The Employee in the list are:  []\n",
      "The Good Employee in the list are:  []\n",
      "The Bad Employee in the list are:  []\n"
     ]
    }
   ],
   "source": [
    "#Sale Example\n",
    "\n",
    "employeNameList = []\n",
    "employeSalesList = []\n",
    "goodSaleEmpList = []\n",
    "badSaleEmpList = []\n",
    "\n",
    "\n",
    "\n",
    "\n",
    "option = input(\"Do you want to add Employee (Y/N)?\")\n",
    "if option.replace(\" \",\"\")=='y' or option.replace(\" \",\"\")=='Y':\n",
    "    flag = True\n",
    "    while flag:\n",
    "        employeName = input(\"Enter Employee Name to add : \")\n",
    "        if employeName.replace(\" \",\"\")=='Q' or employeName.replace(\" \",\"\")=='q':\n",
    "            flag = False\n",
    "        else:\n",
    "            employeSale = input(\"Enter Employee Sale to add : \")\n",
    "            employeNameList.append(employeName)   \n",
    "            employeSalesList.append(employeSale)\n",
    "    for amount in employeSalesList:\n",
    "        if int(amount) > 100:\n",
    "            goodSaleEmpList.append(amount)\n",
    "        else:\n",
    "            badSaleEmpList.append(amount)\n",
    "        \n",
    "    print(\"The Employee in the list are: \",employeNameList)   \n",
    "    print(\"The Good Employee in the list are: \",goodSaleEmpList)   \n",
    "    print(\"The Bad Employee in the list are: \",badSaleEmpList) \n",
    "    \n",
    "elif option.replace(\" \",\"\")=='n' or option.replace(\" \",\"\")=='N':\n",
    "    print(\"Good Bye!\")\n",
    "else:\n",
    "    print(\"You Enter the wrong input.\")"
   ]
  },
  {
   "cell_type": "code",
   "execution_count": null,
   "metadata": {},
   "outputs": [],
   "source": []
  }
 ],
 "metadata": {
  "kernelspec": {
   "display_name": "Python 3",
   "language": "python",
   "name": "python3"
  },
  "language_info": {
   "codemirror_mode": {
    "name": "ipython",
    "version": 3
   },
   "file_extension": ".py",
   "mimetype": "text/x-python",
   "name": "python",
   "nbconvert_exporter": "python",
   "pygments_lexer": "ipython3",
   "version": "3.7.4"
  }
 },
 "nbformat": 4,
 "nbformat_minor": 2
}
