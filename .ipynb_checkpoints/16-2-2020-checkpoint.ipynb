{
 "cells": [
  {
   "cell_type": "markdown",
   "metadata": {},
   "source": [
    "# Classes"
   ]
  },
  {
   "cell_type": "code",
   "execution_count": 39,
   "metadata": {},
   "outputs": [],
   "source": [
    "class Car:\n",
    "    def __init__(self,model,make,registration,color):\n",
    "            #self create copy of variables\n",
    "        self.model = model\n",
    "        self.make = make\n",
    "        self.registration = registration\n",
    "        self.color = color\n",
    "    def descriptive_name(self):\n",
    "        full_description = 'Model Name is : '+self.model +'\\nand the maker is : '+self.make+'\\nwhich registration number is : '+self.registration+'\\nand color is : '+self.color\n",
    "        return full_description"
   ]
  },
  {
   "cell_type": "code",
   "execution_count": 41,
   "metadata": {},
   "outputs": [],
   "source": [
    "carObj = Car(\"Mehran\",\"Suzuki\",\"123124\",\"White\")"
   ]
  },
  {
   "cell_type": "code",
   "execution_count": 42,
   "metadata": {},
   "outputs": [
    {
     "name": "stdout",
     "output_type": "stream",
     "text": [
      "Model Name is : Mehran\n",
      "and the maker is : Suzuki\n",
      "which registration number is : 123124\n",
      "and color is : White\n"
     ]
    }
   ],
   "source": [
    "print(carObj.descriptive_name())"
   ]
  },
  {
   "cell_type": "code",
   "execution_count": 47,
   "metadata": {},
   "outputs": [
    {
     "name": "stdout",
     "output_type": "stream",
     "text": [
      "Bam-Bou\n",
      "Chineese\n",
      "Restaurant is open\n",
      "Restaurant name is: Bam-Bou\n",
      "Cuisine Type is: Chineese\n"
     ]
    }
   ],
   "source": [
    "#9-1. Restaurant: Make a class called Restaurant. The __init__() method for\n",
    "#Restaurant should store two attributes: a restaurant_name and a cuisine_type.\n",
    "#Make a method called describe_restaurant() that prints these two pieces of\n",
    "#information, and a method called open_restaurant() that prints a message indicating\n",
    "#that the restaurant is open.\n",
    "#Make an instance called restaurant from your class. Print the two attributes\n",
    "#individually, and then call both methods.\n",
    "class Restaurant:\n",
    "    def __init__(self,restaurant_name,cuisine):\n",
    "        self.restaurant_name = restaurant_name\n",
    "        self.cuisine = cuisine\n",
    "    def describe_restaurant(self):\n",
    "        description = \"Restaurant name is: \"+self.restaurant_name+\"\\n\"+\"Cuisine Type is: \"+self.cuisine\n",
    "        return description\n",
    "    def open_restaurant(self):\n",
    "        restaurant_status = \"Restaurant is open\"\n",
    "        return restaurant_status\n",
    "\n",
    "restaurant = Restaurant(\"Bam-Bou\",\"Chineese\")\n",
    "print(restaurant.restaurant_name)\n",
    "print(restaurant.cuisine)\n",
    "print(restaurant.open_restaurant())\n",
    "print(restaurant.describe_restaurant())"
   ]
  },
  {
   "cell_type": "code",
   "execution_count": 50,
   "metadata": {},
   "outputs": [
    {
     "name": "stdout",
     "output_type": "stream",
     "text": [
      "Restaurant name is: Howdy\n",
      "Cuisine Type is: Pasta\n",
      "Restaurant name is: Sizzlers\n",
      "Cuisine Type is: Chineese\n",
      "Restaurant name is: Gaffar Kabab\n",
      "Cuisine Type is: Bar B Q\n"
     ]
    }
   ],
   "source": [
    "#9-2. Three Restaurants: Start with your class from Exercise 9-1. Create three\n",
    "#different instances from the class, and call describe_restaurant() for each\n",
    "#instance.\n",
    "restaurant1 = Restaurant(\"Howdy\",\"Pasta\")\n",
    "restaurant2 = Restaurant(\"Sizzlers\",\"Chineese\")\n",
    "restaurant3 = Restaurant(\"Gaffar Kabab\",\"Bar B Q\")\n",
    "\n",
    "print(restaurant1.describe_restaurant())\n",
    "print(restaurant2.describe_restaurant())\n",
    "print(restaurant3.describe_restaurant())\n",
    "\n"
   ]
  },
  {
   "cell_type": "code",
   "execution_count": 61,
   "metadata": {},
   "outputs": [
    {
     "name": "stdout",
     "output_type": "stream",
     "text": [
      "User First Name and Last name is Faiz Rehman\n",
      "Faiz Rehman just what you want: another email!\n"
     ]
    }
   ],
   "source": [
    "#9-3. Users: Make a class called User. Create two attributes called first_name\n",
    "#and last_name, and then create several other attributes that are typically stored\n",
    "#in a user profile. Make a method called describe_user() that prints a summary\n",
    "#of the user’s information. Make another method called greet_user() that prints\n",
    "#a personalized greeting to the user.\n",
    "#Create several instances representing different users, and call both methods\n",
    "#for each user.\n",
    "\n",
    "class User:\n",
    "    def __init__(self,f_name,l_name):\n",
    "        self.f_name = f_name\n",
    "        self.l_name = l_name\n",
    "    def describe_user(self):\n",
    "        des_user = \"User First Name and Last name is \"+self.f_name+\" \"+self.l_name\n",
    "        return des_user\n",
    "    def greet_user(self):\n",
    "        greet = self.f_name+\" \"+self.l_name+\" just what you want: another email!\"\n",
    "        return greet\n",
    "    \n",
    "user_obj = User(\"Faiz\",\"Rehman\")\n",
    "print(user_obj.describe_user())\n",
    "print(user_obj.greet_user())"
   ]
  },
  {
   "cell_type": "markdown",
   "metadata": {},
   "source": [
    "# Getter And Setter"
   ]
  },
  {
   "cell_type": "code",
   "execution_count": 72,
   "metadata": {},
   "outputs": [
    {
     "name": "stdout",
     "output_type": "stream",
     "text": [
      "2020 Bmw C Class\n",
      "Old value of odometer : This car has 0 miles on it.\n",
      "New value of odometer : This car has 45 miles on it.\n",
      "New increamented value of odometer : This car has 90 miles on it.\n"
     ]
    }
   ],
   "source": [
    "class Car():\n",
    "    def __init__(self, make, model, year):\n",
    "        self.make = make\n",
    "        self.model = model\n",
    "        self.year = year\n",
    "        self.odometer_reading = 0\n",
    "    def get_descriptive_name(self):\n",
    "        long_name = str(self.year) + ' ' + self.make + ' ' + self.model\n",
    "        return long_name.title()\n",
    "    def read_odometer(self):\n",
    "        return \"This car has \" + str(self.odometer_reading) + \" miles on it.\"\n",
    "    def update_odometer(self, mileage):\n",
    "        self.odometer_reading = mileage\n",
    "    def increment_odometer(self, miles):\n",
    "        self.odometer_reading += miles\n",
    "        \n",
    "my_new_car = Car('BMW', 'C Class', 2020)\n",
    "print(my_new_car.get_descriptive_name())\n",
    "print(\"Old value of odometer : \"+my_new_car.read_odometer())\n",
    "my_new_car.update_odometer(45)\n",
    "print(\"New value of odometer : \"+my_new_car.read_odometer())\n",
    "my_new_car.increment_odometer(45)\n",
    "print(\"New increamented value of odometer : \"+my_new_car.read_odometer())\n",
    "\n"
   ]
  },
  {
   "cell_type": "code",
   "execution_count": 85,
   "metadata": {},
   "outputs": [
    {
     "name": "stdout",
     "output_type": "stream",
     "text": [
      "Bam-Bou\n",
      "Chineese\n",
      "Number of served by the restaurant : 0\n",
      "Change updated of served: Number of served by the restaurant : 100\n",
      "After icreament value of served: Number of served by the restaurant : 300\n"
     ]
    }
   ],
   "source": [
    "#9-4. Number Served: Start with your program from Exercise 9-1 (page 166).\n",
    "#Add an attribute called number_served with a default value of 0. Create an\n",
    "#instance called restaurant from this class. Print the number of customers the\n",
    "#restaurant has served, and then change this value and print it again.\n",
    "#Add a method called set_number_served() that lets you set the number\n",
    "#of customers that have been served. Call this method with a new number and\n",
    "#print the value again.\n",
    "#Add a method called increment_number_served() that lets you increment\n",
    "#the number of customers who’ve been served. Call this method with any number\n",
    "#you like that could represent how many customers were served in, say, a\n",
    "#day of business.\n",
    "class Restaurant:\n",
    "    def __init__(self,restaurant_name,cuisine):\n",
    "        self.restaurant_name = restaurant_name\n",
    "        self.cuisine = cuisine\n",
    "        self.number_served = 0\n",
    "    def describe_restaurant(self):\n",
    "        description = \"Restaurant name is: \"+self.restaurant_name+\"\\n\"+\"Cuisine Type is: \"+self.cuisine\n",
    "        return description\n",
    "    def open_restaurant(self):\n",
    "        restaurant_status = \"Restaurant is open\"\n",
    "        return restaurant_status\n",
    "    def get_served_value(self):\n",
    "        return \"Number of served by the restaurant : \"+str(self.number_served)\n",
    "    def updated_served_value(self,newValue):\n",
    "        self.number_served = newValue\n",
    "    def increament_served_value(self,incValue):\n",
    "        self.number_served += incValue\n",
    "        \n",
    "restaurant = Restaurant(\"Bam-Bou\",\"Chineese\")\n",
    "print(restaurant.restaurant_name)\n",
    "print(restaurant.cuisine)\n",
    "print(restaurant.get_served_value())\n",
    "restaurant.updated_served_value(100)\n",
    "print(\"Change updated of served: \"+restaurant.get_served_value())\n",
    "restaurant.increament_served_value(200)\n",
    "print(\"After icreament value of served: \"+restaurant.get_served_value())\n"
   ]
  },
  {
   "cell_type": "markdown",
   "metadata": {},
   "source": [
    "# Inheritance"
   ]
  },
  {
   "cell_type": "code",
   "execution_count": 86,
   "metadata": {},
   "outputs": [
    {
     "name": "stdout",
     "output_type": "stream",
     "text": [
      "2016 Tesla Model S\n"
     ]
    }
   ],
   "source": [
    "class ElectricCar(Car):\n",
    "    def __init__(self, make, model, year):\n",
    "        super().__init__(make, model, year)\n",
    "\n",
    "my_tesla = ElectricCar('tesla', 'model s', 2016)\n",
    "print(my_tesla.get_descriptive_name())"
   ]
  }
 ],
 "metadata": {
  "kernelspec": {
   "display_name": "Python 3",
   "language": "python",
   "name": "python3"
  },
  "language_info": {
   "codemirror_mode": {
    "name": "ipython",
    "version": 3
   },
   "file_extension": ".py",
   "mimetype": "text/x-python",
   "name": "python",
   "nbconvert_exporter": "python",
   "pygments_lexer": "ipython3",
   "version": "3.7.4"
  }
 },
 "nbformat": 4,
 "nbformat_minor": 2
}
