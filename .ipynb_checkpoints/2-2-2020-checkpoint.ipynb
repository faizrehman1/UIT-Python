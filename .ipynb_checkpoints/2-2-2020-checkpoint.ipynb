{
 "cells": [
  {
   "cell_type": "markdown",
   "metadata": {},
   "source": [
    "# Functions"
   ]
  },
  {
   "cell_type": "code",
   "execution_count": 4,
   "metadata": {},
   "outputs": [],
   "source": [
    "#Required Arguments\n",
    "def name(myName):\n",
    "    print(f\"My name is {myName}\")"
   ]
  },
  {
   "cell_type": "code",
   "execution_count": 5,
   "metadata": {},
   "outputs": [
    {
     "name": "stdout",
     "output_type": "stream",
     "text": [
      "My name is Faiz\n"
     ]
    }
   ],
   "source": [
    "name(\"Faiz\")"
   ]
  },
  {
   "cell_type": "code",
   "execution_count": 12,
   "metadata": {},
   "outputs": [],
   "source": [
    "def fullname(fname,lname=\"\"):\n",
    "    print(f\"My name is {fname} {lname}\")"
   ]
  },
  {
   "cell_type": "code",
   "execution_count": 13,
   "metadata": {},
   "outputs": [
    {
     "name": "stdout",
     "output_type": "stream",
     "text": [
      "My name is Faiz Rehman\n"
     ]
    }
   ],
   "source": [
    "fullname(\"Faiz\",\"Rehman\")"
   ]
  },
  {
   "cell_type": "code",
   "execution_count": 14,
   "metadata": {},
   "outputs": [
    {
     "name": "stdout",
     "output_type": "stream",
     "text": [
      "My name is Faiz \n"
     ]
    }
   ],
   "source": [
    "fullname(\"Faiz\")"
   ]
  },
  {
   "cell_type": "code",
   "execution_count": 17,
   "metadata": {},
   "outputs": [],
   "source": [
    "#Power Function\n",
    "def powerfun(digit,power):\n",
    "    answer = digit**power\n",
    "    print(f\"The value of {digit} with {power} is {answer}\")"
   ]
  },
  {
   "cell_type": "code",
   "execution_count": 18,
   "metadata": {},
   "outputs": [
    {
     "name": "stdout",
     "output_type": "stream",
     "text": [
      "The value of 2 with 2 is 4\n"
     ]
    }
   ],
   "source": [
    "powerfun(2,2)"
   ]
  },
  {
   "cell_type": "code",
   "execution_count": 19,
   "metadata": {},
   "outputs": [],
   "source": [
    "#Return\n",
    "def evenOdd(a,b):\n",
    "    sum1 = a+b\n",
    "    if(sum1%2==0):\n",
    "        return \"Even\"\n",
    "    return \"Odd\""
   ]
  },
  {
   "cell_type": "code",
   "execution_count": 20,
   "metadata": {},
   "outputs": [],
   "source": [
    "result = evenOdd(2,4)"
   ]
  },
  {
   "cell_type": "code",
   "execution_count": 21,
   "metadata": {},
   "outputs": [
    {
     "data": {
      "text/plain": [
       "'Even'"
      ]
     },
     "execution_count": 21,
     "metadata": {},
     "output_type": "execute_result"
    }
   ],
   "source": [
    "result"
   ]
  },
  {
   "cell_type": "markdown",
   "metadata": {},
   "source": [
    "# Swap Funtion"
   ]
  },
  {
   "cell_type": "code",
   "execution_count": 28,
   "metadata": {},
   "outputs": [],
   "source": [
    "def swapfunction(a=5,b=7):\n",
    "    print(f\"Before swap a= {a} and b={b}\")\n",
    "    a,b = b,a\n",
    "    print(f\"After swap a= {a} and b={b}\")\n",
    "    "
   ]
  },
  {
   "cell_type": "code",
   "execution_count": 31,
   "metadata": {},
   "outputs": [
    {
     "name": "stdout",
     "output_type": "stream",
     "text": [
      "Before swap a= 5 and b=7\n",
      "After swap a= 7 and b=5\n"
     ]
    }
   ],
   "source": [
    "swapfunction(a,b);"
   ]
  },
  {
   "cell_type": "code",
   "execution_count": 32,
   "metadata": {},
   "outputs": [],
   "source": [
    "a=5\n",
    "b=7\n",
    "def swap(a,b):\n",
    "    return b,a"
   ]
  },
  {
   "cell_type": "code",
   "execution_count": 33,
   "metadata": {},
   "outputs": [
    {
     "data": {
      "text/plain": [
       "5"
      ]
     },
     "execution_count": 33,
     "metadata": {},
     "output_type": "execute_result"
    }
   ],
   "source": [
    "a"
   ]
  },
  {
   "cell_type": "code",
   "execution_count": 34,
   "metadata": {},
   "outputs": [
    {
     "data": {
      "text/plain": [
       "7"
      ]
     },
     "execution_count": 34,
     "metadata": {},
     "output_type": "execute_result"
    }
   ],
   "source": [
    "b"
   ]
  },
  {
   "cell_type": "code",
   "execution_count": 35,
   "metadata": {},
   "outputs": [
    {
     "data": {
      "text/plain": [
       "(7, 5)"
      ]
     },
     "execution_count": 35,
     "metadata": {},
     "output_type": "execute_result"
    }
   ],
   "source": [
    "swap(a,b)"
   ]
  },
  {
   "cell_type": "markdown",
   "metadata": {},
   "source": [
    "# Function within function"
   ]
  },
  {
   "cell_type": "code",
   "execution_count": 36,
   "metadata": {},
   "outputs": [],
   "source": [
    "def pak(name):\n",
    "    print(f\"Nahi h {name}\")\n",
    "def message(name):\n",
    "    print(f\"tyar hain {name}\")\n",
    "    pak(name)"
   ]
  },
  {
   "cell_type": "code",
   "execution_count": 37,
   "metadata": {},
   "outputs": [
    {
     "name": "stdout",
     "output_type": "stream",
     "text": [
      "tyar hain PSL\n",
      "Nahi h PSL\n"
     ]
    }
   ],
   "source": [
    "message(\"PSL\")"
   ]
  },
  {
   "cell_type": "code",
   "execution_count": 38,
   "metadata": {},
   "outputs": [],
   "source": [
    "def square(sum1):\n",
    "    sq = sum1**2\n",
    "    print(sq)\n",
    "    print(sq**0.5)\n",
    "def sumOf(a,b):\n",
    "    sum1 = a+b\n",
    "    square(sum1)"
   ]
  },
  {
   "cell_type": "code",
   "execution_count": 39,
   "metadata": {},
   "outputs": [
    {
     "name": "stdout",
     "output_type": "stream",
     "text": [
      "121\n",
      "11.0\n"
     ]
    }
   ],
   "source": [
    "sumOf(4,7)"
   ]
  },
  {
   "cell_type": "code",
   "execution_count": 27,
   "metadata": {},
   "outputs": [],
   "source": [
    "def generateString(A, B): \n",
    "  \n",
    "    rt = \"\" \n",
    "    while (0 < A or 0 < B) : \n",
    "  \n",
    "        # More 'b', append \"bba\" \n",
    "        if (A < B) : \n",
    "            if (0 < B): \n",
    "                rt = rt +'b'\n",
    "                B -= 1\n",
    "            if (0 < B): \n",
    "                rt += 'b'\n",
    "                B -= 1\n",
    "            if (0 < A): \n",
    "                rt += 'a'\n",
    "                A -= 1\n",
    "  \n",
    "        # More 'a', append \"aab\" \n",
    "        elif (B < A): \n",
    "            if (0 < A): \n",
    "                rt += 'a'\n",
    "                A -= 1\n",
    "            if (0 < A): \n",
    "                rt += 'a'\n",
    "                A -= 1\n",
    "            if (0 < B): \n",
    "                rt += 'b'\n",
    "                B -= 1\n",
    "  \n",
    "        # Equal number of 'a' and 'b' \n",
    "        # append \"ab\" \n",
    "        else : \n",
    "            if (0 < A): \n",
    "                rt += 'a'\n",
    "                A -= 1\n",
    "            if (0 < B): \n",
    "                rt += 'b'\n",
    "                B -= 1\n",
    "    print(rt) "
   ]
  },
  {
   "cell_type": "code",
   "execution_count": 28,
   "metadata": {},
   "outputs": [
    {
     "name": "stdout",
     "output_type": "stream",
     "text": [
      "bbabbb\n"
     ]
    }
   ],
   "source": [
    "A = 1\n",
    "B = 5\n",
    "generateString(A, B)"
   ]
  },
  {
   "cell_type": "code",
   "execution_count": null,
   "metadata": {},
   "outputs": [],
   "source": []
  }
 ],
 "metadata": {
  "kernelspec": {
   "display_name": "Python 3",
   "language": "python",
   "name": "python3"
  },
  "language_info": {
   "codemirror_mode": {
    "name": "ipython",
    "version": 3
   },
   "file_extension": ".py",
   "mimetype": "text/x-python",
   "name": "python",
   "nbconvert_exporter": "python",
   "pygments_lexer": "ipython3",
   "version": "3.7.4"
  }
 },
 "nbformat": 4,
 "nbformat_minor": 2
}
