{
 "cells": [
  {
   "cell_type": "markdown",
   "metadata": {},
   "source": [
    "# Nested Loop"
   ]
  },
  {
   "cell_type": "code",
   "execution_count": 2,
   "metadata": {},
   "outputs": [
    {
     "name": "stdout",
     "output_type": "stream",
     "text": [
      "Faiz Rehman\n",
      "Faiz Zafar\n",
      "Faiz Khalil\n",
      "Kashan Rehman\n",
      "Kashan Zafar\n",
      "Kashan Khalil\n",
      "Fawad Rehman\n",
      "Fawad Zafar\n",
      "Fawad Khalil\n"
     ]
    }
   ],
   "source": [
    "#Nested Loop\n",
    "firstname = [\"Faiz\",\"Kashan\",\"Fawad\"]\n",
    "lastname = [\"Rehman\",\"Zafar\",\"Khalil\"]\n",
    "\n",
    "for fname in firstname:\n",
    "    for lname in lastname:\n",
    "        print(f\"{fname} {lname}\")"
   ]
  },
  {
   "cell_type": "markdown",
   "metadata": {},
   "source": [
    "# Class Task"
   ]
  },
  {
   "cell_type": "code",
   "execution_count": 14,
   "metadata": {},
   "outputs": [
    {
     "name": "stdout",
     "output_type": "stream",
     "text": [
      "Enter Number for table.. 2\n",
      "2 x 1 = 2\n",
      "2 x 2 = 4\n",
      "2 x 3 = 6\n",
      "2 x 4 = 8\n",
      "2 x 5 = 10\n",
      "2 x 6 = 12\n",
      "2 x 7 = 14\n",
      "2 x 8 = 16\n",
      "2 x 9 = 18\n",
      "2 x 10 = 20\n"
     ]
    }
   ],
   "source": [
    "# Take Input from user and print table of that number\n",
    "#range(start,end)\n",
    "number = int(input(\"Enter Number for table.. \"))\n",
    "for num in range(1,11):\n",
    "    print(f\"{number}\"+\" x \"+str(num)+\" = \"+str(number*num))"
   ]
  },
  {
   "cell_type": "code",
   "execution_count": 22,
   "metadata": {},
   "outputs": [
    {
     "name": "stdout",
     "output_type": "stream",
     "text": [
      "Enter Initial Number for table.. 2\n",
      "Enter Final Number for table.. 4\n",
      "\n",
      "2 x 1 = 2\n",
      "2 x 2 = 4\n",
      "2 x 3 = 6\n",
      "2 x 4 = 8\n",
      "2 x 5 = 10\n",
      "2 x 6 = 12\n",
      "2 x 7 = 14\n",
      "2 x 8 = 16\n",
      "2 x 9 = 18\n",
      "2 x 10 = 20\n",
      "\n",
      "3 x 1 = 3\n",
      "3 x 2 = 6\n",
      "3 x 3 = 9\n",
      "3 x 4 = 12\n",
      "3 x 5 = 15\n",
      "3 x 6 = 18\n",
      "3 x 7 = 21\n",
      "3 x 8 = 24\n",
      "3 x 9 = 27\n",
      "3 x 10 = 30\n",
      "\n",
      "4 x 1 = 4\n",
      "4 x 2 = 8\n",
      "4 x 3 = 12\n",
      "4 x 4 = 16\n",
      "4 x 5 = 20\n",
      "4 x 6 = 24\n",
      "4 x 7 = 28\n",
      "4 x 8 = 32\n",
      "4 x 9 = 36\n",
      "4 x 10 = 40\n"
     ]
    }
   ],
   "source": [
    "# Take Input and print table from 2 to input number\n",
    "\n",
    "initialnumber = int(input(\"Enter Initial Number for table.. \"))\n",
    "finalnumber = int(input(\"Enter Final Number for table.. \"))\n",
    "\n",
    "if finalnumber > initialnumber :\n",
    "    \n",
    "    for num in range(initialnumber,finalnumber+1):\n",
    "        print(\"\")\n",
    "        for count in range(1,11):\n",
    "             print(f\"{num}\"+\" x \"+str(count)+\" = \"+str(num*count))\n",
    "else :\n",
    "    print(\"Final Number should be greater that Initial\")"
   ]
  },
  {
   "cell_type": "code",
   "execution_count": null,
   "metadata": {},
   "outputs": [],
   "source": [
    "a = (\"Pa\",1,True) # Packing"
   ]
  },
  {
   "cell_type": "code",
   "execution_count": 24,
   "metadata": {},
   "outputs": [],
   "source": [
    "b = [\"Pak\",1,True] # Packing"
   ]
  },
  {
   "cell_type": "markdown",
   "metadata": {},
   "source": [
    "### Unpack Tuple"
   ]
  },
  {
   "cell_type": "code",
   "execution_count": 25,
   "metadata": {},
   "outputs": [],
   "source": [
    "ss,dd,ff = a"
   ]
  },
  {
   "cell_type": "code",
   "execution_count": 26,
   "metadata": {},
   "outputs": [
    {
     "data": {
      "text/plain": [
       "'Pa'"
      ]
     },
     "execution_count": 26,
     "metadata": {},
     "output_type": "execute_result"
    }
   ],
   "source": [
    "ss"
   ]
  },
  {
   "cell_type": "code",
   "execution_count": 27,
   "metadata": {},
   "outputs": [
    {
     "data": {
      "text/plain": [
       "1"
      ]
     },
     "execution_count": 27,
     "metadata": {},
     "output_type": "execute_result"
    }
   ],
   "source": [
    "dd"
   ]
  },
  {
   "cell_type": "code",
   "execution_count": 28,
   "metadata": {},
   "outputs": [
    {
     "data": {
      "text/plain": [
       "True"
      ]
     },
     "execution_count": 28,
     "metadata": {},
     "output_type": "execute_result"
    }
   ],
   "source": [
    "ff"
   ]
  },
  {
   "cell_type": "markdown",
   "metadata": {},
   "source": [
    "### Unpack List"
   ]
  },
  {
   "cell_type": "code",
   "execution_count": 29,
   "metadata": {},
   "outputs": [],
   "source": [
    "ss,dd,ff = b"
   ]
  },
  {
   "cell_type": "code",
   "execution_count": 30,
   "metadata": {},
   "outputs": [
    {
     "data": {
      "text/plain": [
       "'Pak'"
      ]
     },
     "execution_count": 30,
     "metadata": {},
     "output_type": "execute_result"
    }
   ],
   "source": [
    "ss"
   ]
  },
  {
   "cell_type": "code",
   "execution_count": 31,
   "metadata": {},
   "outputs": [
    {
     "data": {
      "text/plain": [
       "1"
      ]
     },
     "execution_count": 31,
     "metadata": {},
     "output_type": "execute_result"
    }
   ],
   "source": [
    "dd"
   ]
  },
  {
   "cell_type": "code",
   "execution_count": 32,
   "metadata": {},
   "outputs": [
    {
     "data": {
      "text/plain": [
       "True"
      ]
     },
     "execution_count": 32,
     "metadata": {},
     "output_type": "execute_result"
    }
   ],
   "source": [
    "ff"
   ]
  },
  {
   "cell_type": "code",
   "execution_count": 36,
   "metadata": {},
   "outputs": [
    {
     "name": "stdout",
     "output_type": "stream",
     "text": [
      "Enter Initial Number for table.. 2\n",
      "Enter Final Number for table.. 4\n",
      "\n",
      "2 x 1 = 2\n",
      "2 x 2 = 4\n",
      "2 x 3 = 6\n",
      "2 x 4 = 8\n",
      "2 x 5 = 10\n",
      "2 x 7 = 14\n",
      "2 x 8 = 16\n",
      "2 x 9 = 18\n",
      "2 x 10 = 20\n",
      "\n",
      "3 x 1 = 3\n",
      "3 x 2 = 6\n",
      "3 x 3 = 9\n",
      "3 x 4 = 12\n",
      "3 x 5 = 15\n",
      "3 x 7 = 21\n",
      "3 x 8 = 24\n",
      "3 x 9 = 27\n",
      "3 x 10 = 30\n",
      "\n",
      "4 x 1 = 4\n",
      "4 x 2 = 8\n",
      "4 x 3 = 12\n",
      "4 x 4 = 16\n",
      "4 x 5 = 20\n",
      "4 x 7 = 28\n",
      "4 x 8 = 32\n",
      "4 x 9 = 36\n",
      "4 x 10 = 40\n"
     ]
    }
   ],
   "source": [
    "# Skip 6 in tables\n",
    "# Take Input and print table from 2 to input number\n",
    "\n",
    "initialnumber = int(input(\"Enter Initial Number for table.. \"))\n",
    "finalnumber = int(input(\"Enter Final Number for table.. \"))\n",
    "\n",
    "if finalnumber > initialnumber :\n",
    "    \n",
    "    for num in range(initialnumber,finalnumber+1):\n",
    "        print(\"\")\n",
    "        for count in range(1,11):\n",
    "            if count==6:\n",
    "                continue\n",
    "            print(f\"{num}\"+\" x \"+str(count)+\" = \"+str(num*count))\n",
    "else :\n",
    "    print(\"Final Number should be greater that Initial\")"
   ]
  },
  {
   "cell_type": "code",
   "execution_count": 1,
   "metadata": {},
   "outputs": [
    {
     "name": "stdout",
     "output_type": "stream",
     "text": [
      "Enter Topping name you want? Macroni\n",
      "Enter Topping name you want? q\n",
      "Enter Size of Pizza you want? Small\n",
      "Enter flavor of Pizza you want? hausdhad\n",
      "Flavor is not available.. \n",
      "Enter flavor of Pizza you want? Tikka\n",
      "Flavor is available.. \n",
      "Your order of pizza with size Small and flavor Tikka with ['Macroni'] Topping is ready..\n"
     ]
    }
   ],
   "source": [
    "# Take input from user\n",
    "#1 topping\n",
    "#2 size\n",
    "\n",
    "toppingList = [\"Macroni\",\"Mushroom\",\"Onion\",\"Sause\"]\n",
    "sizeList = [\"Small\",\"Regular\",\"Large\"]\n",
    "flavorList = [\"Tikka\",\"Supreme\",\"Afghani\"]\n",
    "userToppingList = []\n",
    "\n",
    "\n",
    "\n",
    "\n",
    "\n",
    "# For Topping\n",
    "flag = True\n",
    "while flag:\n",
    "    top= input(\"Enter Topping name you want? \")\n",
    "    if top.replace(\" \",\"\") == \"q\" or top.replace(\" \",\"\") == \"Q\":\n",
    "        flag = False\n",
    "    else:\n",
    "        if top.replace(\" \",\"\") in toppingList:\n",
    "            if top in userToppingList :\n",
    "                print(\"Already Added..\")\n",
    "            else:\n",
    "                userToppingList.append(top)\n",
    "        else:\n",
    "            print(\"Topping is not available.. \")\n",
    "\n",
    "            \n",
    "size = input(\"Enter Size of Pizza you want? \")\n",
    "if size.replace(\" \",\"\") in sizeList:\n",
    "    user_pizza_size = size\n",
    "else:\n",
    "    print(\"Size is not Available\")\n",
    "    \n",
    "flag = True\n",
    "while flag:\n",
    "    flavor = input(\"Enter flavor of Pizza you want? \")\n",
    "    if flavor.replace(\" \",\"\") == \"q\" or flavor.replace(\" \",\"\") == \"Q\":\n",
    "        flag = False\n",
    "    else:\n",
    "        if flavor.replace(\" \",\"\") in flavorList:\n",
    "            print(\"Flavor is available.. \") \n",
    "            flag = False\n",
    "        else:\n",
    "            print(\"Flavor is not available.. \")\n",
    "    \n",
    "print(f\"Your order of pizza with size {size} and flavor {flavor} with {userToppingList} Topping is ready..\")    \n",
    "    #for userTop in userToppingList:\n",
    "    \n",
    "    #size = input(\"Enter size you want? \")\n",
    "\n"
   ]
  },
  {
   "cell_type": "code",
   "execution_count": null,
   "metadata": {},
   "outputs": [],
   "source": []
  },
  {
   "cell_type": "code",
   "execution_count": null,
   "metadata": {},
   "outputs": [],
   "source": []
  }
 ],
 "metadata": {
  "kernelspec": {
   "display_name": "Python 3",
   "language": "python",
   "name": "python3"
  },
  "language_info": {
   "codemirror_mode": {
    "name": "ipython",
    "version": 3
   },
   "file_extension": ".py",
   "mimetype": "text/x-python",
   "name": "python",
   "nbconvert_exporter": "python",
   "pygments_lexer": "ipython3",
   "version": "3.7.4"
  }
 },
 "nbformat": 4,
 "nbformat_minor": 2
}
